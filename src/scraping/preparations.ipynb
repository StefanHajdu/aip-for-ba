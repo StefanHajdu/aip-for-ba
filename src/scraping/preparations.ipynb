{
 "cells": [
  {
   "cell_type": "code",
   "execution_count": 1,
   "metadata": {},
   "outputs": [],
   "source": [
    "DATA_PATH = \"/workspace/aip-for-ba/data\"\n"
   ]
  },
  {
   "cell_type": "code",
   "execution_count": null,
   "metadata": {},
   "outputs": [],
   "source": [
    "# count number of files in a directory and its subdirectories\n",
    "import pathlib\n",
    "\n",
    "\n",
    "def count_files(directory):\n",
    "    count = 0\n",
    "    for path in pathlib.Path(directory).rglob('*'):\n",
    "        if path.is_file():\n",
    "            count += 1\n",
    "    return count\n",
    "\n",
    "if __name__ == '__main__':\n",
    "    files_count = count_files('{DATA_PATH}/data_bratislava')\n",
    "    print(f'Number of files: {files_count}')"
   ]
  },
  {
   "cell_type": "code",
   "execution_count": null,
   "metadata": {},
   "outputs": [],
   "source": [
    "import json\n",
    "import requests as r\n",
    "\n",
    "with open(f\"{DATA_PATH}ingest_data_datasets.json\", \"r\") as f:\n",
    "    datasets = json.load(f)\n",
    "\n",
    "for dataset in datasets:\n",
    "    dataset_url = dataset['table']\n",
    "    response = r.get(dataset_url)\n",
    "    if response.status_code != 200:\n",
    "        print(f'Error downloading data from {dataset_url}')\n",
    "        continue\n",
    "\n",
    "    try:\n",
    "        rows = [row.get('attributes') for row in response.json().get('features')]\n",
    "        with open(f'{DATA_PATH}data_bratislava/{dataset[\"title\"]}.ndjson', 'w', encoding='utf-8') as f:\n",
    "            for row in rows: \n",
    "                f.write(json.dumps(row, ensure_ascii=False) + '\\n')\n",
    "    except Exception:\n",
    "        print(f'No features in {dataset_url}')\n",
    "    "
   ]
  },
  {
   "cell_type": "code",
   "execution_count": null,
   "metadata": {},
   "outputs": [],
   "source": [
    "import polars as pl\n",
    "data = pl.read_ndjson(f'{DATA_PATH}/data_bratislava_2/Emisie a merné územné emisie základných látok vypustených zo str.ndjson')\n",
    "data.describe()"
   ]
  },
  {
   "cell_type": "code",
   "execution_count": null,
   "metadata": {},
   "outputs": [],
   "source": [
    "from ollama import Client\n",
    "# cwith ontext size 12k\n",
    "\n",
    "client = Client(host='http://192.168.0.199:11434',)\n",
    "\n",
    "\n",
    "client.generate(model='llama3.1', options={\"num_ctx\": 12000}, prompt=f'Write description of this dataset, what columns it has, what values are there and the ranges: {data.describe()}')['response']\n",
    "\n",
    "# print(response['message']['content'])"
   ]
  },
  {
   "cell_type": "code",
   "execution_count": null,
   "metadata": {},
   "outputs": [],
   "source": [
    "import json\n",
    "with open(f'{DATA_PATH}/ingest_data_datasets.json', 'r') as f:\n",
    "    json_data = json.load(f)\n",
    "\n",
    "print(json_data)"
   ]
  },
  {
   "cell_type": "code",
   "execution_count": null,
   "metadata": {},
   "outputs": [],
   "source": [
    "updated_datasets = []\n"
   ]
  },
  {
   "cell_type": "code",
   "execution_count": null,
   "metadata": {},
   "outputs": [],
   "source": [
    "from pathlib import Path\n",
    "for dataset in json_data:\n",
    "    file_path = f'{DATA_PATH}/data_bratislava/{dataset[\"title\"]}' + '.ndjson'\n",
    "    if not Path(file_path).is_file() or Path(file_path).stat().st_size == 0:\n",
    "        print(f'{dataset[\"title\"]} not found')\n",
    "        continue\n",
    "    if dataset['title'] in [x['title'] for x in updated_datasets]:\n",
    "        continue\n",
    "    data = pl.read_ndjson(file_path)\n",
    "    response = client.generate(model='llama3.1', options={\"num_ctx\": 12000}, prompt=f'Write description of this dataset, what columns it has, what values are there and the ranges: {data.describe()}')['response']\n",
    "    updated_datasets.append({**dataset,**{'description': response}})\n"
   ]
  },
  {
   "cell_type": "code",
   "execution_count": 58,
   "metadata": {},
   "outputs": [],
   "source": [
    "with open(f'{DATA_PATH}/ingest_data_datasets_ai_description.json', 'w') as f:\n",
    "    json.dump(updated_datasets, f, indent=4)"
   ]
  },
  {
   "cell_type": "code",
   "execution_count": 12,
   "metadata": {},
   "outputs": [],
   "source": [
    "from pathlib import Path\n",
    "\n",
    "\n",
    "file_sizes = {}\n",
    "for _file in Path(f'{DATA_PATH}/mib.sk').rglob('*'):\n",
    "    if _file.is_file():\n",
    "        file_sizes[_file] = _file.stat().st_size / 1024 / 1024\n"
   ]
  },
  {
   "cell_type": "code",
   "execution_count": 13,
   "metadata": {},
   "outputs": [
    {
     "name": "stdout",
     "output_type": "stream",
     "text": [
      "47.91040897369385\n"
     ]
    }
   ],
   "source": [
    "print(sum(file_sizes.values()))"
   ]
  }
 ],
 "metadata": {
  "kernelspec": {
   "display_name": "py12",
   "language": "python",
   "name": "python3"
  },
  "language_info": {
   "codemirror_mode": {
    "name": "ipython",
    "version": 3
   },
   "file_extension": ".py",
   "mimetype": "text/x-python",
   "name": "python",
   "nbconvert_exporter": "python",
   "pygments_lexer": "ipython3",
   "version": "3.12.5"
  }
 },
 "nbformat": 4,
 "nbformat_minor": 2
}
