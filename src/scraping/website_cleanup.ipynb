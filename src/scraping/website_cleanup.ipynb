{
 "cells": [
  {
   "cell_type": "code",
   "execution_count": 12,
   "metadata": {},
   "outputs": [],
   "source": [
    "# extract paragraphs from .html files\n",
    "from bs4 import BeautifulSoup\n",
    "from pathlib import Path\n",
    "import json\n",
    "\n",
    "DATA_PATH = \"/home/stephenx/Documents/Programming/Python/aip-for-ba/data\"\n",
    "prefix = \"\"\"\n",
    "Hlavné mesto Slovenskej republiky Bratislava\n",
    "Primaciálne námestie 1\n",
    "814 99 Bratislava\n",
    "\n",
    "IČO: 00603481\n",
    "DIČ: 2020372596\n",
    "IČ DPH: SK2020372596\n",
    "Mesto Bratislava\n",
    "Rýchle odkazy\n",
    "English\n",
    "Hlavné mesto Slovenskej republiky Bratislava\n",
    "Primaciálne námestie 1\n",
    "814 99 Bratislava\n",
    "\n",
    "IČO: 00603481\n",
    "DIČ: 2020372596\n",
    "IČ DPH: SK2020372596\n",
    "English\"\"\"\n",
    "\n",
    "def extract_paragraphs(html_file):\n",
    "    with open(html_file, 'r') as f:\n",
    "        soup = BeautifulSoup(f, 'html.parser')\n",
    "        paragraphs = soup.find_all('p')\n",
    "        return soup.find(\"title\"), paragraphs\n",
    "\n",
    "\n",
    "data = []\n",
    "for _file in Path(f\"{DATA_PATH}/domains/\").rglob(\"*.html\"):\n",
    "    if _file.is_dir():\n",
    "        continue\n",
    "    paragraphs = extract_paragraphs(_file)\n",
    "    url = \"/\".join(_file.parts[9:-1])\n",
    "    if not paragraphs[0]:\n",
    "        continue\n",
    "    data.append({\n",
    "        \"title\": paragraphs[0].get_text(),\n",
    "        \"description\": \"\\n\".join([p.get_text() for p in paragraphs[1]]).replace(prefix, \"\"),\n",
    "        \"source\": f\"https://{url}\",\n",
    "    })\n"
   ]
  },
  {
   "cell_type": "code",
   "execution_count": 15,
   "metadata": {},
   "outputs": [],
   "source": [
    "with open(f\"{DATA_PATH}/ingest_data.json\", 'w') as f:\n",
    "    f.write(json.dumps(data[500:700], indent=4, ensure_ascii=False))"
   ]
  }
 ],
 "metadata": {
  "kernelspec": {
   "display_name": "aip-venv",
   "language": "python",
   "name": "python3"
  },
  "language_info": {
   "codemirror_mode": {
    "name": "ipython",
    "version": 3
   },
   "file_extension": ".py",
   "mimetype": "text/x-python",
   "name": "python",
   "nbconvert_exporter": "python",
   "pygments_lexer": "ipython3",
   "version": "3.12.3"
  }
 },
 "nbformat": 4,
 "nbformat_minor": 2
}
